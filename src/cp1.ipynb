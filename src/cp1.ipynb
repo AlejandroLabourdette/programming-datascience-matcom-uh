{
 "cells": [
  {
   "metadata": {},
   "cell_type": "markdown",
   "source": "# CP 1 Nociones Básicas de Programación, tipos básicos y variables\n",
   "id": "46611c20663e57d1"
  },
  {
   "metadata": {
    "collapsed": true,
    "ExecuteTime": {
     "end_time": "2025-09-08T21:55:02.393312Z",
     "start_time": "2025-09-08T21:55:02.391249Z"
    }
   },
   "cell_type": "markdown",
   "source": [
    "### Conocimiento y Algoritmos (`Knowledge and Algorithms`)\n",
    "Empecemos hablando de conocimiento: el conocimiento declarativo (`Declarative Knowledge`) es una afirmación de hechos (`Statement of Facts`), y muchos de nosotros probablemente lo hemos usado en matemáticas y en el pasado. Pero así no funciona la computación (al menos la que veremos en clases). En computación, lo que hacemos es trabajar con conocimiento imperativo (`Imperative Knowledge`), que básicamente es una receta: cómo hacer algo. Y cuando programamos, lo único que estamos haciendo es escribir una receta para que la computadora haga algo. Eso es todo.\n",
    "\n",
    "Pensemos en un ejemplo. De matemática sabemos que la raíz cuadrada de un número cualquiera `y` es `x` si y solo si se cumple que `x * x = y`. Esto es un conocimiento declarativo, pero si le damos este `statement` a la computadora no va a saber qué hacer con él. Lo que necesitamos es enseñarle a la computadora como calcular la raíz cuadrada de un número y que nos dé ese resultado. La computadora necesita una receta.\n",
    "\n",
    "Una receta bastante simple es:\n",
    "1. Empezar adivinando un número `g` (`guess`).\n",
    "2. Si `g * g` está lo suficientemente cerca de `y` entonces esa es la respuesta\n",
    "3. De lo contrario obtén un nuevo `g` dividiendo `y` por el `g` anterior ( `y / g` de esta forma `g` va convergiendo a `x`)\n",
    "4. Usando el nuevo `g` salta al paso *2*\n",
    "\n",
    "Lo que tenemos aquí es un `algoritmo`: Tenemos una secuencia de pasos simples; un proceso de control de flujo que determina cuando deben ser ejecutados cada paso; y una forma de determinar cuando parar. ¡Los algoritmos son recetas y las recetas son algoritmos!"
   ],
   "id": "3aa836a61dadae8e"
  },
  {
   "metadata": {
    "ExecuteTime": {
     "end_time": "2025-09-08T21:55:02.411455Z",
     "start_time": "2025-09-08T21:55:02.409218Z"
    }
   },
   "cell_type": "markdown",
   "source": [
    "### Aspectos de los lenguajes (`Aspects of Languages`)\n",
    "\n",
    "Las primitivas (`primitives`) de un lenguaje permitan conocer el punto de partida a partir del cual se construirá todo en él. En español, inglés, francés, etc. algunas de las primitivas pueden ser palabras, o incluso letras o caracteres. Con caracteres, podemos formar palabras. Con palabras, podemos formar oraciones. Con oraciones, podemos construir historias. Y con historias, podemos crear libros.\n",
    "\n",
    "En los lenguajes de programación, las primitivas son números, secuencias de caracteres, operadores como suma, multiplicación, división, verificación de igualdad, comprobación de sí algo es mayor que otra cosa, etc. Una vez que tenemos estas primitivas en un lenguaje, podemos comenzar a construir la sintaxis del lenguaje.\n",
    "\n",
    "La sintáxis (`syntax`) indica si algo está escrito de manera correcta y no incumple ninguna de las reglas del lenguaje. Por ejemplo en español no tiene sentido hacer una oración con solo dos sustantivos unidos sin nada más: 'Sol campana.'; lo correcto sería usar algún verbo que los enlace, utilizar artículo, etc.: 'El sol parece una campana.'. Incluso tenemos el conjunto de todos los errores ortográficos de ejemplo. En los lenguajes de programación sucede lo mismo, por ejemplo `inT(\"36\")` es incorrecto y `int(\"36\")` es válido\n",
    "\n",
    "La semántica (`semantic`) indica si lo que está dicho tiene sentido. Los lenguajes con los que hablamos, como el español, son, por naturaleza, subjetivos. Decir algo como 'La luna reía.' puede tener valor en un contexto poético aunque sepamos que la risa no es una característica atribuible a los objetos no vivos. En los lenguajes lógicos como los de programación esta subjetividad se pierde y **las instrucciones tienen un único significado aunque a veces no sea el que nosotros pensamos cuando las escribimos**\n"
   ],
   "id": "3d744c88881c505a"
  },
  {
   "metadata": {},
   "cell_type": "markdown",
   "source": [
    "### Objetos (`Objects`)\n",
    "\n",
    "Cuando escribimos un programa vamos principalmente a crear objetos y manipularlos. Objetos son por ejemplo `36` o `\"¡Me gusta Python!\"`. Esos objetos tienen asociado un tipo (`type`) y ese tipo va a indicarle a Python las cosas que puedes, en tu programa, hacer con él. Por ejemplo `36` es un entero y, por tanto, puedo hacer operaciones aritméticas (`+`, `-`, `/`, `*`); mientras que `\"¡Me gusta Python!\"` es un string (secuencia de caracteres) y puedo tomar pedacitos de ese string (llamados `substring`) pero no puedo dividirlo con el operador `/`.\n",
    "\n",
    "Los tipos básicos con los que vamos a estar trabajando son:\n",
    "- **`int`**: representa enteros, ej. 3, -67, 487237\n",
    "- **`float`** representa números reales, ej. 3.14, 57.0, -4.78345\n",
    "- **`bool`** representa un valor booleano: `true` o `false`\n",
    "- **`str`** representa un string, ej. `\"I love to code!\"`\n",
    "\n",
    "Para conocer el tipo de un objeto podemos usar la función `type` que recibe como argumento el objeto:"
   ],
   "id": "ad9fb3fd966a94d7"
  },
  {
   "metadata": {},
   "cell_type": "code",
   "source": "type(5)",
   "id": "f6cb8c61dc42da2b",
   "outputs": [],
   "execution_count": null
  },
  {
   "metadata": {},
   "cell_type": "code",
   "source": "type(85.7)",
   "id": "3ea8893b2b5640b5",
   "outputs": [],
   "execution_count": null
  },
  {
   "metadata": {},
   "cell_type": "code",
   "source": "type(3 < 76.2)",
   "id": "1637a5e6f1f3f73c",
   "outputs": [],
   "execution_count": null
  },
  {
   "metadata": {},
   "cell_type": "code",
   "source": "type(\"¡Me gusta Python!\")",
   "id": "8b9b2a748ef19720",
   "outputs": [],
   "execution_count": null
  },
  {
   "metadata": {},
   "cell_type": "markdown",
   "source": [
    "### Conversión de Tipos (`Casting`)\n",
    "\n",
    "Los objetos los podemos convertir para que cambien su tipo y de esta forma poder hacer determinadas operaciones que antes no podíamos. Para hacerlo debemos pasar el objeto como argumento a una función que tiene el mismo nombre del tipo que se desea obtener. Hay operaciones que hacen 'casts' implícitos por ejemplo `round`:"
   ],
   "id": "224d488535eb32d0"
  },
  {
   "metadata": {},
   "cell_type": "code",
   "source": "type(\"65\")",
   "id": "af99d3a207a52999",
   "outputs": [],
   "execution_count": null
  },
  {
   "metadata": {},
   "cell_type": "code",
   "source": "type(int(\"65\"))",
   "id": "a93e8ce7b37575f7",
   "outputs": [],
   "execution_count": null
  },
  {
   "metadata": {},
   "cell_type": "code",
   "source": "type(1)",
   "id": "5c3ece5049e7d696",
   "outputs": [],
   "execution_count": null
  },
  {
   "metadata": {},
   "cell_type": "code",
   "source": "type(float(1))",
   "id": "485b5970a87a7e57",
   "outputs": [],
   "execution_count": null
  },
  {
   "metadata": {},
   "cell_type": "code",
   "source": "type(6.35)",
   "id": "a96b29bfc04879bb",
   "outputs": [],
   "execution_count": null
  },
  {
   "metadata": {},
   "cell_type": "code",
   "source": "type(round(6.35))",
   "id": "fec486bdc3ebfb81",
   "outputs": [],
   "execution_count": null
  },
  {
   "metadata": {},
   "cell_type": "markdown",
   "source": [
    "### Expresiones (`Expressions`)\n",
    "\n",
    "Combinando objetos y operadores obtenemos expresiones, estas expresiones son evaluables y ese valor es computado cuando el programa ejecuta la expresión:"
   ],
   "id": "43c1e6e42c8d1424"
  },
  {
   "metadata": {},
   "cell_type": "code",
   "source": "(3+2)*5*(4+1)",
   "id": "19483fda46924a40",
   "outputs": [],
   "execution_count": null
  },
  {
   "metadata": {},
   "cell_type": "code",
   "source": "type((4+2)*6-1)",
   "id": "9bb487dfc79f4121",
   "outputs": [],
   "execution_count": null
  },
  {
   "metadata": {},
   "cell_type": "markdown",
   "source": [
    "### Operadores sobre tipos numéricos (`Operators`)\n",
    "Si ambos tipos son `int` el resultado es `int`. Si al menos uno de los miembros es `float` el resultado es `float`.\n",
    "- **`a + b`**: Suma\n",
    "- **`a - b`**: Diferencia\n",
    "- **`a * b`**: Producto\n",
    "- **`a // b`**: División por debajo\n",
    "- **`a % b`**: Resto\n",
    "- **`a ** b`**: Elevar a\n",
    "\n",
    "El resultado será siempre `float`\n",
    "- **`a/b`**: División"
   ],
   "id": "8a88a2b78f0d7492"
  },
  {
   "metadata": {},
   "cell_type": "code",
   "source": "2%4",
   "id": "87e4ff0516044142",
   "outputs": [],
   "execution_count": null
  },
  {
   "metadata": {},
   "cell_type": "code",
   "source": "2**4.1",
   "id": "2dca20f6d481911a",
   "outputs": [],
   "execution_count": null
  },
  {
   "metadata": {},
   "cell_type": "code",
   "source": "5/1",
   "id": "e60c23a1e8c4dfc1",
   "outputs": [],
   "execution_count": null
  },
  {
   "metadata": {},
   "cell_type": "markdown",
   "source": [
    "### Variables (`Variables`)\n",
    "\n",
    "El concepto de `variable` en Computación cambia con respecto al uso en Matemática. Mientras que una variable en Matemática representa todos los valores posibles para los que se cumpla una determinada ecuación (por ejemplo `x * x = y`); en Computación una variable está ligada a un único valor en todo momento (puede ser también una expresión, pero las expresiones se evalúan a un único valor también) por ejemplo `a = 8`.\n",
    "\n",
    "El signo de igual `=` en computación representa la asignación del miembro derecho al miembro izquierdo (`variable = value`) y dicha asignación se ejecuta en dos pasos:\n",
    "1. Computar el valor de la expresión del miembro de derecho\n",
    "2. Enlazar (`bind`) el valor computado con el nombre de la variable\n",
    "\n",
    "Con estas variables tenemos 'alias' a los valores computados previamente de expresiones potencialmente complejas y que pueden, si están bien nombradas, dar una idea de lo que contienen."
   ],
   "id": "34a61d423db51d2"
  },
  {
   "metadata": {},
   "cell_type": "code",
   "source": [
    "pi = 355/113\n",
    "pi"
   ],
   "id": "111facf0f570da2c",
   "outputs": [],
   "execution_count": null
  },
  {
   "metadata": {},
   "cell_type": "markdown",
   "source": [
    "El nombre de una variable puede ser reutilizado en una nueva asignación (**`re-bind`**). Una vez se haya completado la asignación, el valor antigo al que se referenciaba se pierde.\n",
    "Nota que en las instrucciones de asignación se evalúa primero la expresión y luego se enlaza (`bind`) el resultado a la variable"
   ],
   "id": "3679462cd310cade"
  },
  {
   "metadata": {},
   "cell_type": "code",
   "source": [
    "sum = 1\n",
    "sum = sum + 2\n",
    "sum = sum + 3\n",
    "sum = sum + 4\n",
    "sum = sum + 5\n",
    "sum"
   ],
   "id": "97f310d894694c7c",
   "outputs": [],
   "execution_count": null
  },
  {
   "metadata": {},
   "cell_type": "markdown",
   "source": [
    "### Operadores sobre Strings (`String Operators`)\n",
    "\n",
    "Los strings pueden verse como una secuencia de caracteres: letras, dígitos, espacios, etc. Se representan encerrando entre comillas la secuencia de caracteres que deseamos tratar. Es equivalente el uso de comillas simples **`'`** o dobles **`\"`** por lo que pueden ser usados indistintamente, pero es aconsejable por temas de estilo ser consistente con la que se escoja en el resto del código"
   ],
   "id": "1848d9a5746eca10"
  },
  {
   "metadata": {},
   "cell_type": "code",
   "source": [
    "s = 'Me gusta Python!'\n",
    "s"
   ],
   "id": "284f7c17e134740b",
   "outputs": [],
   "execution_count": null
  },
  {
   "metadata": {},
   "cell_type": "code",
   "source": [
    "s = \"Me gusta Python!\"\n",
    "s"
   ],
   "id": "b390ed007e7e9ab3",
   "outputs": [],
   "execution_count": null
  },
  {
   "metadata": {},
   "cell_type": "markdown",
   "source": [
    "#### Concatenación y repetición\n",
    "\n",
    "Usando los operadores **`+`** y **`*`** podemos concatenar strings o repetir el mismo una cierta cantidad de veces"
   ],
   "id": "4f3d0f56e17f800f"
  },
  {
   "metadata": {},
   "cell_type": "code",
   "source": [
    "s = \"Me\" + \" \" + \"gusta\" + \" \" + \"Python\" + \"!\"\n",
    "s"
   ],
   "id": "3649489715e70aeb",
   "outputs": [],
   "execution_count": null
  },
  {
   "metadata": {},
   "cell_type": "code",
   "source": [
    "s = \"Soy \" + \"tar...\"*5 + \"ta mudo\"\n",
    "s"
   ],
   "id": "cb0de4ac427a2012",
   "outputs": [],
   "execution_count": null
  },
  {
   "metadata": {},
   "cell_type": "markdown",
   "source": [
    "#### Longitud (`Length`)\n",
    "\n",
    "Se utiliza la función **`len`** y se le pasa como argumento el objeto de tipo string"
   ],
   "id": "9fa314fdd8501b04"
  },
  {
   "metadata": {},
   "cell_type": "code",
   "source": [
    "s = \"Me gusta Python!\"\n",
    "length = len(s)\n",
    "length"
   ],
   "id": "fe4c4d31f8b62631",
   "outputs": [],
   "execution_count": null
  },
  {
   "metadata": {},
   "cell_type": "markdown",
   "source": [
    "#### Slicing\n",
    "\n",
    "LLamamos indexar a acceder a un carácter específico del string. Para realizar la operación colocamos ese índice (`index`) `i` entre los corchetes a la derecha del objeto. El index siempre empieza en `0`, por lo que `0` representa la primera posición del string. Si usamos valores negativos lo que hará será recorrer el string de atrás hacia adelante. Ejemplo:"
   ],
   "id": "f1f18378b270a334"
  },
  {
   "metadata": {},
   "cell_type": "code",
   "source": "s = \"abc\"",
   "id": "faf0127a2b8f6e29",
   "outputs": [],
   "execution_count": null
  },
  {
   "metadata": {},
   "cell_type": "code",
   "source": "s[0]",
   "id": "22a68541f3825aeb",
   "outputs": [],
   "execution_count": null
  },
  {
   "metadata": {},
   "cell_type": "code",
   "source": "s[1]",
   "id": "f4d919383e1e04b5",
   "outputs": [],
   "execution_count": null
  },
  {
   "metadata": {},
   "cell_type": "code",
   "source": "s[2]",
   "id": "7979b4659a523495",
   "outputs": [],
   "execution_count": null
  },
  {
   "metadata": {},
   "cell_type": "code",
   "source": [
    "# Nota que el índice 3 hace referencia a la posición 4 del string, pero... no existe\n",
    "s[3]"
   ],
   "id": "cbe7ac2fa84c6e6e",
   "outputs": [],
   "execution_count": null
  },
  {
   "metadata": {},
   "cell_type": "code",
   "source": "s[-1]",
   "id": "37bef4e9aa2d6ff4",
   "outputs": [],
   "execution_count": null
  },
  {
   "metadata": {},
   "cell_type": "code",
   "source": "s[-2]",
   "id": "17a89befc0efd52e",
   "outputs": [],
   "execution_count": null
  },
  {
   "metadata": {},
   "cell_type": "code",
   "source": "s[-3]",
   "id": "2af2792d1fc85604",
   "outputs": [],
   "execution_count": null
  },
  {
   "metadata": {},
   "cell_type": "markdown",
   "source": [
    "Podemos obtener substrings completos además de caracteres aislados. La forma para hacerlo dado un string `s` cualquiera es **`s[start:stop:step]`** significando estos valores:\n",
    "- **`start`**: punto desde el cual voy a empezar a tomar carácteres (se incluye el carácter del índice)\n",
    "- **`stop`**: punto hasta el que se van a tomar carácteres (**no** se incluye el carácter del índice)\n",
    "- **`step`**: los pasos (cantidad que sumo al start) con cada carácter que tome\n",
    "\n",
    "La lectura de un slice de este tipo sería: voy a tomar los carácteres empezando por `start` hasta `stop` (sin incluir ese de `stop`) dando saltos de `step` carácteres. Step nos dará la información de si recorro el string hacia adelante o hacia atrás dependiendo si es positivo o negativo.\n",
    "\n",
    "Si se proveen solo 2 números **`s[start:stop]`** entonces implícitamente `step = 1` y si se provee uno solo entonces se está indexando por el carácter en una posición específica como vimos antes. Se puede también omitir los números y dejar solo los dos puntos.\n"
   ],
   "id": "bf481e716a99f54d"
  },
  {
   "metadata": {},
   "cell_type": "code",
   "source": "s = \"abcdefgh\"",
   "id": "946de1872dfc4663",
   "outputs": [],
   "execution_count": null
  },
  {
   "metadata": {},
   "cell_type": "code",
   "source": "s[3:6]",
   "id": "c92bbec2926e474c",
   "outputs": [],
   "execution_count": null
  },
  {
   "metadata": {},
   "cell_type": "code",
   "source": "s[3:6:2]",
   "id": "e0a68def15d6dc61",
   "outputs": [],
   "execution_count": null
  },
  {
   "metadata": {},
   "cell_type": "code",
   "source": "s[:]",
   "id": "ce68dc996a316f8",
   "outputs": [],
   "execution_count": null
  },
  {
   "metadata": {},
   "cell_type": "code",
   "source": "s[::-1]",
   "id": "37871c105ad79319",
   "outputs": [],
   "execution_count": null
  },
  {
   "metadata": {},
   "cell_type": "code",
   "source": "s[4:1:-2]",
   "id": "dd532f54b8a0963a",
   "outputs": [],
   "execution_count": null
  },
  {
   "metadata": {},
   "cell_type": "markdown",
   "source": [
    "#### F-Strings\n",
    "\n",
    "Un f-string (Formatted String Literal) es una forma elegante y eficiente de crear strings que tengan intercaladas variables. Se declaran escribiendo una **`f`** antes de las comillas del string y todo valor que deba ser insertado será escrito entre llaves **`{}`** en la posición que se desee colocar. Ejemplo:"
   ],
   "id": "c89adf49137f2046"
  },
  {
   "metadata": {},
   "cell_type": "code",
   "source": [
    "a = 5\n",
    "b = 6\n",
    "suma = a + b\n",
    "s1 = \"Si sumo \" + str(a) + \" + \" + str(b) + \" el resultado es \" + str(suma)\n",
    "s2 = f\"Si sumo {a} + {b} el resultado es {suma}\""
   ],
   "id": "7028157034a3902",
   "outputs": [],
   "execution_count": null
  },
  {
   "metadata": {},
   "cell_type": "markdown",
   "source": [
    "### Buenas Prácticas (`Best practices`)\n",
    "\n",
    "Además de escoger conscientemente el nombre de una variable para que refleje el valor que se está almacenando existe la posibilidad de hacer anotaciones en el propio código para añadir texto que describa la idea de lo que se hará. Estas anotaciones son llamadas **`comentarios`** y son líneas que empiezan con **`#`**. Estas líneas no son parte del código ejecutado"
   ],
   "id": "f112ee1c5cbfba31"
  },
  {
   "metadata": {},
   "cell_type": "code",
   "source": "# Esto es un comentario",
   "id": "dead53d2a938b525",
   "outputs": [],
   "execution_count": null
  },
  {
   "metadata": {},
   "cell_type": "markdown",
   "source": "¿Cuál piensas que es el mejor estilo de código?",
   "id": "6d71f67e609b9e0f"
  },
  {
   "metadata": {},
   "cell_type": "code",
   "source": [
    "#do calculations\n",
    "a = 355/113 *(2.2**2)\n",
    "c = 355/113 *(2.2*2)\n",
    "\n",
    "# emmm... WTF?!?!?!"
   ],
   "id": "795fd75d684e39cc",
   "outputs": [],
   "execution_count": null
  },
  {
   "metadata": {},
   "cell_type": "code",
   "source": [
    "p = 355/113\n",
    "r = 2.2\n",
    "#multiply p with r squared\n",
    "a = p*(r**2)\n",
    "#multiply p with r times 2\n",
    "c = p*(r*2)\n",
    "\n",
    "# No describas la operación, describe la idea"
   ],
   "id": "ec6e3c456de9724c",
   "outputs": [],
   "execution_count": null
  },
  {
   "metadata": {},
   "cell_type": "code",
   "source": [
    "#calculate area and circumference of a circle\n",
    "#using an approximation for pi\n",
    "pi = 355/113\n",
    "radius = 2.2\n",
    "area = pi*(radius**2)\n",
    "circumference = pi*(radius*2)\n",
    "\n",
    "# Perfect!!!!"
   ],
   "id": "269a3957a8296ec4",
   "outputs": [],
   "execution_count": null
  },
  {
   "metadata": {},
   "cell_type": "markdown",
   "source": "**Sé siempre la persona que escribe con el estilo del último código**",
   "id": "ae4270d979ca0f08"
  },
  {
   "metadata": {},
   "cell_type": "markdown",
   "source": [
    "### Input / Output\n",
    "\n",
    "Hasta ahora nos hemos aprovechado de que las celdas de código en jupyter (el entorno en el que estamos que permite escribir código y texto) funcionan tal cual la consola de python de manera que si tu última instrucción es una expresión entonces la evalúa y te la imprime (nota que el nombre de una variable también es una expresión evaluable en el valor que representa). Pero este mecanismo solo es válido si interactúas con la terminal. Si queremos hacer llegar mensajes al usuario entonces debemos usar algún mecanismo de salida de datos como por ejemplo **`print`**"
   ],
   "id": "a55d7b0fbe9f0fac"
  },
  {
   "metadata": {},
   "cell_type": "code",
   "source": [
    "a = 5\n",
    "print(5)\n",
    "# Puedo pasar tantos argumentos quiera separados por coma y él\n",
    "# los imprime separados por espacio\n",
    "print(\"Esta es\", \"la cp\", 1, \"de Introducción\", \"a la\", \"Programación\")"
   ],
   "id": "a36b2c182177a1a2",
   "outputs": [],
   "execution_count": null
  },
  {
   "metadata": {},
   "cell_type": "markdown",
   "source": "Para recibir información y poder usarla en nuestro programa utilizaremos la función **`input`**. A esta función se le puede dar como argumento un string que será el mostrado en pantalla antes de quedarse esperando hasta que el usuario presione enter. La función **`input` es también una expresión** y, por lo tanto, es evaluable, su valor es el string escrito por el usuario antes de presionar enter",
   "id": "3fa539d10d6adf2c"
  },
  {
   "metadata": {},
   "cell_type": "code",
   "source": [
    "nombre = input(\"¿Cómo te llamas?: \")\n",
    "print(\"¡Hola\", nombre, \"bienvenide a Matcom!\")"
   ],
   "id": "4bcbe9b206107b92",
   "outputs": [],
   "execution_count": null
  },
  {
   "metadata": {},
   "cell_type": "code",
   "source": [
    "val = input(\"Ingresa un número: \")\n",
    "print(\"Input me devuelve un:\", type(val))\n",
    "print(int(val)+1, \"Jeje, el mío es más grande\")"
   ],
   "id": "fcf7019d6aee1ab1",
   "outputs": [],
   "execution_count": null
  },
  {
   "metadata": {},
   "cell_type": "markdown",
   "source": [
    "## Summary\n",
    "\n",
    "Objects\n",
    "- Objects in memory have types.\n",
    "- Types tell Python what operations you can do with the objects.\n",
    "- Expressions evaluate to one value and involve objects and operations.\n",
    "- Variables bind names to objects.\n",
    "- = sign is an assignment, for ex. var = type(5*4)\n",
    "\n",
    "Programs\n",
    "- Programs only do what you tell them to do.\n",
    "- Lines of code are executed in order.\n",
    "- Good variable names and comments help you read code later\n",
    "\n",
    "Strings\n",
    "- They are sequences of characters, the first one at index 0\n",
    "- They can be indexed and sliced\n",
    "\n",
    "Input\n",
    "- Done with the input command\n",
    "- Anything the user inputs is read as a string object!\n",
    "\n",
    "Output\n",
    "- Is done with the print command\n",
    "- Only objects that are printed in a .py code file will be visible in the shell"
   ],
   "id": "839cbd1a41d5ff59"
  },
  {
   "metadata": {},
   "cell_type": "markdown",
   "source": [
    "## Ejercicios\n",
    "\n",
    "1 Find the type of:\n",
    "- 1234\n",
    "- 8.99\n",
    "- 9.0\n",
    "- True\n",
    "- False\n",
    "- float(123)\n",
    "- round(7.9)\n",
    "- float(round(7.2))\n",
    "- int(7.2)\n",
    "- int(7.9)\n",
    "\n",
    "2 Find the values of the following expressions:\n",
    "- (13-4) / (12*12)\n",
    "- type(4*3)\n",
    "- type(4.0*3)\n",
    "- int(1/2)\n",
    "\n",
    "3 Which of these are allowed in Python? Type them in the\n",
    " console to check.\n",
    "```\n",
    "x = 6\n",
    "6 = x\n",
    "x*y = 3+4\n",
    "xy = 3+4\n",
    "```\n",
    "\n",
    "4 These 3 lines are executed in order. What are the values of meters and feet variables at each line in the code?\n",
    "```\n",
    "meters = 100\n",
    "feet = 3.2808 * meters\n",
    "meters = 200\n",
    "```\n",
    "\n",
    "5 Swap values of x and y without binding the numbers directly.\n",
    " Debug (aka fix) this code.\n",
    "```\n",
    "x = 1\n",
    "y = 2\n",
    "y = x\n",
    "x = y\n",
    "```\n",
    "\n",
    "6 What’s the value of s1 and s2?\n",
    "```\n",
    "b = \":\"\n",
    "c = \")\"\n",
    "s1 = b + 2*c\n",
    "\n",
    "f = \"a\"\n",
    "g = \" b\"\n",
    "h = \"3\"\n",
    "s2 = (f+g)*int(h)\n",
    "```\n",
    "\n",
    "7 Which are the substrings here presented?\n",
    "```\n",
    "s = \"ABC d3f ghi\"\n",
    "\n",
    "s[3:len(s)-1]\n",
    "s[4:0:-1]\n",
    "s[6:3]\n",
    "```\n",
    "\n",
    "8 Write a program that\n",
    "- Asks the user for a verb\n",
    "- Prints “¡Soy _ programando!” where you replace _ with what you want.\n",
    "- Then prints the _ replace 5 times in a row separated by commas and spaces.\n",
    "- For example, if the user enters \"un crack\", you print:\n",
    "```\n",
    "¡Soy un crack programando!\n",
    "un crack, un crack, un crack, un crack, un crack\n",
    "```\n",
    "\n",
    "9 Write a program that takes your name as an input and\n",
    "outputs the length of your name minus 5.\n",
    "\n",
    "10 Write a program to remove the nth character from a non-empty string.\n",
    "Print the old string and the new string."
   ],
   "id": "3773d95b53e6728"
  }
 ],
 "metadata": {
  "kernelspec": {
   "display_name": "Python 3",
   "language": "python",
   "name": "python3"
  },
  "language_info": {
   "codemirror_mode": {
    "name": "ipython",
    "version": 2
   },
   "file_extension": ".py",
   "mimetype": "text/x-python",
   "name": "python",
   "nbconvert_exporter": "python",
   "pygments_lexer": "ipython2",
   "version": "2.7.6"
  }
 },
 "nbformat": 4,
 "nbformat_minor": 5
}
